{
 "cells": [
  {
   "cell_type": "code",
   "execution_count": 2,
   "id": "f736f2f2",
   "metadata": {},
   "outputs": [],
   "source": [
    "import pandas as pd\n",
    "uploaded = pd.read_csv('Google_Stock_Train (2010-2022).csv')"
   ]
  },
  {
   "cell_type": "code",
   "execution_count": 3,
   "id": "ff2067b3",
   "metadata": {},
   "outputs": [],
   "source": [
    "data = uploaded"
   ]
  },
  {
   "cell_type": "code",
   "execution_count": 4,
   "id": "59acb8b5",
   "metadata": {},
   "outputs": [
    {
     "data": {
      "text/html": [
       "<div>\n",
       "<style scoped>\n",
       "    .dataframe tbody tr th:only-of-type {\n",
       "        vertical-align: middle;\n",
       "    }\n",
       "\n",
       "    .dataframe tbody tr th {\n",
       "        vertical-align: top;\n",
       "    }\n",
       "\n",
       "    .dataframe thead th {\n",
       "        text-align: right;\n",
       "    }\n",
       "</style>\n",
       "<table border=\"1\" class=\"dataframe\">\n",
       "  <thead>\n",
       "    <tr style=\"text-align: right;\">\n",
       "      <th></th>\n",
       "      <th>Date</th>\n",
       "      <th>Open</th>\n",
       "      <th>High</th>\n",
       "      <th>Low</th>\n",
       "      <th>Close</th>\n",
       "      <th>Adj Close</th>\n",
       "      <th>Volume</th>\n",
       "    </tr>\n",
       "  </thead>\n",
       "  <tbody>\n",
       "    <tr>\n",
       "      <th>0</th>\n",
       "      <td>2010-01-04</td>\n",
       "      <td>15.689439</td>\n",
       "      <td>15.753504</td>\n",
       "      <td>15.621622</td>\n",
       "      <td>15.684434</td>\n",
       "      <td>15.684434</td>\n",
       "      <td>78169752</td>\n",
       "    </tr>\n",
       "    <tr>\n",
       "      <th>1</th>\n",
       "      <td>2010-01-05</td>\n",
       "      <td>15.695195</td>\n",
       "      <td>15.711712</td>\n",
       "      <td>15.554054</td>\n",
       "      <td>15.615365</td>\n",
       "      <td>15.615365</td>\n",
       "      <td>120067812</td>\n",
       "    </tr>\n",
       "    <tr>\n",
       "      <th>2</th>\n",
       "      <td>2010-01-06</td>\n",
       "      <td>15.662162</td>\n",
       "      <td>15.662162</td>\n",
       "      <td>15.174174</td>\n",
       "      <td>15.221722</td>\n",
       "      <td>15.221722</td>\n",
       "      <td>158988852</td>\n",
       "    </tr>\n",
       "    <tr>\n",
       "      <th>3</th>\n",
       "      <td>2010-01-07</td>\n",
       "      <td>15.250250</td>\n",
       "      <td>15.265265</td>\n",
       "      <td>14.831081</td>\n",
       "      <td>14.867367</td>\n",
       "      <td>14.867367</td>\n",
       "      <td>256315428</td>\n",
       "    </tr>\n",
       "    <tr>\n",
       "      <th>4</th>\n",
       "      <td>2010-01-08</td>\n",
       "      <td>14.814815</td>\n",
       "      <td>15.096346</td>\n",
       "      <td>14.742492</td>\n",
       "      <td>15.065566</td>\n",
       "      <td>15.065566</td>\n",
       "      <td>188783028</td>\n",
       "    </tr>\n",
       "    <tr>\n",
       "      <th>5</th>\n",
       "      <td>2010-01-11</td>\n",
       "      <td>15.126627</td>\n",
       "      <td>15.126627</td>\n",
       "      <td>14.865866</td>\n",
       "      <td>15.042793</td>\n",
       "      <td>15.042793</td>\n",
       "      <td>288227484</td>\n",
       "    </tr>\n",
       "    <tr>\n",
       "      <th>6</th>\n",
       "      <td>2010-01-12</td>\n",
       "      <td>14.956206</td>\n",
       "      <td>14.968969</td>\n",
       "      <td>14.714715</td>\n",
       "      <td>14.776777</td>\n",
       "      <td>14.776777</td>\n",
       "      <td>193937868</td>\n",
       "    </tr>\n",
       "    <tr>\n",
       "      <th>7</th>\n",
       "      <td>2010-01-13</td>\n",
       "      <td>14.426677</td>\n",
       "      <td>14.724224</td>\n",
       "      <td>14.361862</td>\n",
       "      <td>14.691942</td>\n",
       "      <td>14.691942</td>\n",
       "      <td>259604136</td>\n",
       "    </tr>\n",
       "    <tr>\n",
       "      <th>8</th>\n",
       "      <td>2010-01-14</td>\n",
       "      <td>14.612112</td>\n",
       "      <td>14.869870</td>\n",
       "      <td>14.584835</td>\n",
       "      <td>14.761011</td>\n",
       "      <td>14.761011</td>\n",
       "      <td>169434396</td>\n",
       "    </tr>\n",
       "    <tr>\n",
       "      <th>9</th>\n",
       "      <td>2010-01-15</td>\n",
       "      <td>14.848348</td>\n",
       "      <td>14.853854</td>\n",
       "      <td>14.465465</td>\n",
       "      <td>14.514515</td>\n",
       "      <td>14.514515</td>\n",
       "      <td>217162620</td>\n",
       "    </tr>\n",
       "  </tbody>\n",
       "</table>\n",
       "</div>"
      ],
      "text/plain": [
       "         Date       Open       High        Low      Close  Adj Close  \\\n",
       "0  2010-01-04  15.689439  15.753504  15.621622  15.684434  15.684434   \n",
       "1  2010-01-05  15.695195  15.711712  15.554054  15.615365  15.615365   \n",
       "2  2010-01-06  15.662162  15.662162  15.174174  15.221722  15.221722   \n",
       "3  2010-01-07  15.250250  15.265265  14.831081  14.867367  14.867367   \n",
       "4  2010-01-08  14.814815  15.096346  14.742492  15.065566  15.065566   \n",
       "5  2010-01-11  15.126627  15.126627  14.865866  15.042793  15.042793   \n",
       "6  2010-01-12  14.956206  14.968969  14.714715  14.776777  14.776777   \n",
       "7  2010-01-13  14.426677  14.724224  14.361862  14.691942  14.691942   \n",
       "8  2010-01-14  14.612112  14.869870  14.584835  14.761011  14.761011   \n",
       "9  2010-01-15  14.848348  14.853854  14.465465  14.514515  14.514515   \n",
       "\n",
       "      Volume  \n",
       "0   78169752  \n",
       "1  120067812  \n",
       "2  158988852  \n",
       "3  256315428  \n",
       "4  188783028  \n",
       "5  288227484  \n",
       "6  193937868  \n",
       "7  259604136  \n",
       "8  169434396  \n",
       "9  217162620  "
      ]
     },
     "execution_count": 4,
     "metadata": {},
     "output_type": "execute_result"
    }
   ],
   "source": [
    "data.head(10)"
   ]
  },
  {
   "cell_type": "code",
   "execution_count": 5,
   "id": "312eca6d",
   "metadata": {},
   "outputs": [
    {
     "data": {
      "text/html": [
       "<div>\n",
       "<style scoped>\n",
       "    .dataframe tbody tr th:only-of-type {\n",
       "        vertical-align: middle;\n",
       "    }\n",
       "\n",
       "    .dataframe tbody tr th {\n",
       "        vertical-align: top;\n",
       "    }\n",
       "\n",
       "    .dataframe thead th {\n",
       "        text-align: right;\n",
       "    }\n",
       "</style>\n",
       "<table border=\"1\" class=\"dataframe\">\n",
       "  <thead>\n",
       "    <tr style=\"text-align: right;\">\n",
       "      <th></th>\n",
       "      <th>Date</th>\n",
       "      <th>Open</th>\n",
       "      <th>High</th>\n",
       "      <th>Low</th>\n",
       "      <th>Close</th>\n",
       "      <th>Adj Close</th>\n",
       "      <th>Volume</th>\n",
       "    </tr>\n",
       "  </thead>\n",
       "  <tbody>\n",
       "    <tr>\n",
       "      <th>3267</th>\n",
       "      <td>2022-12-23</td>\n",
       "      <td>87.110001</td>\n",
       "      <td>89.550003</td>\n",
       "      <td>87.070000</td>\n",
       "      <td>89.230003</td>\n",
       "      <td>89.230003</td>\n",
       "      <td>23003000</td>\n",
       "    </tr>\n",
       "    <tr>\n",
       "      <th>3268</th>\n",
       "      <td>2022-12-27</td>\n",
       "      <td>88.800003</td>\n",
       "      <td>88.940002</td>\n",
       "      <td>87.010002</td>\n",
       "      <td>87.389999</td>\n",
       "      <td>87.389999</td>\n",
       "      <td>20097300</td>\n",
       "    </tr>\n",
       "    <tr>\n",
       "      <th>3269</th>\n",
       "      <td>2022-12-28</td>\n",
       "      <td>86.980003</td>\n",
       "      <td>88.040001</td>\n",
       "      <td>85.940002</td>\n",
       "      <td>86.019997</td>\n",
       "      <td>86.019997</td>\n",
       "      <td>19523200</td>\n",
       "    </tr>\n",
       "    <tr>\n",
       "      <th>3270</th>\n",
       "      <td>2022-12-29</td>\n",
       "      <td>86.620003</td>\n",
       "      <td>88.849998</td>\n",
       "      <td>86.610001</td>\n",
       "      <td>88.449997</td>\n",
       "      <td>88.449997</td>\n",
       "      <td>23333500</td>\n",
       "    </tr>\n",
       "    <tr>\n",
       "      <th>3271</th>\n",
       "      <td>2022-12-30</td>\n",
       "      <td>86.980003</td>\n",
       "      <td>88.300003</td>\n",
       "      <td>86.570000</td>\n",
       "      <td>88.230003</td>\n",
       "      <td>88.230003</td>\n",
       "      <td>23986300</td>\n",
       "    </tr>\n",
       "  </tbody>\n",
       "</table>\n",
       "</div>"
      ],
      "text/plain": [
       "            Date       Open       High        Low      Close  Adj Close  \\\n",
       "3267  2022-12-23  87.110001  89.550003  87.070000  89.230003  89.230003   \n",
       "3268  2022-12-27  88.800003  88.940002  87.010002  87.389999  87.389999   \n",
       "3269  2022-12-28  86.980003  88.040001  85.940002  86.019997  86.019997   \n",
       "3270  2022-12-29  86.620003  88.849998  86.610001  88.449997  88.449997   \n",
       "3271  2022-12-30  86.980003  88.300003  86.570000  88.230003  88.230003   \n",
       "\n",
       "        Volume  \n",
       "3267  23003000  \n",
       "3268  20097300  \n",
       "3269  19523200  \n",
       "3270  23333500  \n",
       "3271  23986300  "
      ]
     },
     "execution_count": 5,
     "metadata": {},
     "output_type": "execute_result"
    }
   ],
   "source": [
    "data.tail(5)"
   ]
  },
  {
   "cell_type": "code",
   "execution_count": 6,
   "id": "4e65ed7e",
   "metadata": {},
   "outputs": [
    {
     "name": "stdout",
     "output_type": "stream",
     "text": [
      "<class 'pandas.core.frame.DataFrame'>\n",
      "RangeIndex: 3272 entries, 0 to 3271\n",
      "Data columns (total 7 columns):\n",
      " #   Column     Non-Null Count  Dtype  \n",
      "---  ------     --------------  -----  \n",
      " 0   Date       3272 non-null   object \n",
      " 1   Open       3272 non-null   float64\n",
      " 2   High       3272 non-null   float64\n",
      " 3   Low        3272 non-null   float64\n",
      " 4   Close      3272 non-null   float64\n",
      " 5   Adj Close  3272 non-null   float64\n",
      " 6   Volume     3272 non-null   int64  \n",
      "dtypes: float64(5), int64(1), object(1)\n",
      "memory usage: 179.1+ KB\n"
     ]
    }
   ],
   "source": [
    "data.info()"
   ]
  },
  {
   "cell_type": "code",
   "execution_count": 7,
   "id": "eea40ade",
   "metadata": {},
   "outputs": [
    {
     "data": {
      "text/plain": [
       "(3272, 7)"
      ]
     },
     "execution_count": 7,
     "metadata": {},
     "output_type": "execute_result"
    }
   ],
   "source": [
    "data.shape"
   ]
  },
  {
   "cell_type": "code",
   "execution_count": 8,
   "id": "afdd2d02",
   "metadata": {},
   "outputs": [
    {
     "data": {
      "text/html": [
       "<div>\n",
       "<style scoped>\n",
       "    .dataframe tbody tr th:only-of-type {\n",
       "        vertical-align: middle;\n",
       "    }\n",
       "\n",
       "    .dataframe tbody tr th {\n",
       "        vertical-align: top;\n",
       "    }\n",
       "\n",
       "    .dataframe thead th {\n",
       "        text-align: right;\n",
       "    }\n",
       "</style>\n",
       "<table border=\"1\" class=\"dataframe\">\n",
       "  <thead>\n",
       "    <tr style=\"text-align: right;\">\n",
       "      <th></th>\n",
       "      <th>Open</th>\n",
       "      <th>High</th>\n",
       "      <th>Low</th>\n",
       "      <th>Close</th>\n",
       "      <th>Adj Close</th>\n",
       "      <th>Volume</th>\n",
       "    </tr>\n",
       "  </thead>\n",
       "  <tbody>\n",
       "    <tr>\n",
       "      <th>count</th>\n",
       "      <td>3272.000000</td>\n",
       "      <td>3272.000000</td>\n",
       "      <td>3272.000000</td>\n",
       "      <td>3272.000000</td>\n",
       "      <td>3272.000000</td>\n",
       "      <td>3.272000e+03</td>\n",
       "    </tr>\n",
       "    <tr>\n",
       "      <th>mean</th>\n",
       "      <td>49.161187</td>\n",
       "      <td>49.650301</td>\n",
       "      <td>48.653316</td>\n",
       "      <td>49.160898</td>\n",
       "      <td>49.160898</td>\n",
       "      <td>6.017541e+07</td>\n",
       "    </tr>\n",
       "    <tr>\n",
       "      <th>std</th>\n",
       "      <td>35.810449</td>\n",
       "      <td>36.216443</td>\n",
       "      <td>35.387644</td>\n",
       "      <td>35.804094</td>\n",
       "      <td>35.804094</td>\n",
       "      <td>4.957609e+07</td>\n",
       "    </tr>\n",
       "    <tr>\n",
       "      <th>min</th>\n",
       "      <td>10.968719</td>\n",
       "      <td>11.068068</td>\n",
       "      <td>10.851602</td>\n",
       "      <td>10.912663</td>\n",
       "      <td>10.912663</td>\n",
       "      <td>9.312000e+06</td>\n",
       "    </tr>\n",
       "    <tr>\n",
       "      <th>25%</th>\n",
       "      <td>20.281718</td>\n",
       "      <td>20.426113</td>\n",
       "      <td>20.172359</td>\n",
       "      <td>20.295858</td>\n",
       "      <td>20.295858</td>\n",
       "      <td>2.894200e+07</td>\n",
       "    </tr>\n",
       "    <tr>\n",
       "      <th>50%</th>\n",
       "      <td>38.527750</td>\n",
       "      <td>38.931249</td>\n",
       "      <td>38.224501</td>\n",
       "      <td>38.563002</td>\n",
       "      <td>38.563002</td>\n",
       "      <td>4.123200e+07</td>\n",
       "    </tr>\n",
       "    <tr>\n",
       "      <th>75%</th>\n",
       "      <td>61.837625</td>\n",
       "      <td>62.265000</td>\n",
       "      <td>61.218125</td>\n",
       "      <td>61.738001</td>\n",
       "      <td>61.738001</td>\n",
       "      <td>7.927251e+07</td>\n",
       "    </tr>\n",
       "    <tr>\n",
       "      <th>max</th>\n",
       "      <td>151.250000</td>\n",
       "      <td>151.546494</td>\n",
       "      <td>148.899002</td>\n",
       "      <td>149.838501</td>\n",
       "      <td>149.838501</td>\n",
       "      <td>5.923990e+08</td>\n",
       "    </tr>\n",
       "  </tbody>\n",
       "</table>\n",
       "</div>"
      ],
      "text/plain": [
       "              Open         High          Low        Close    Adj Close  \\\n",
       "count  3272.000000  3272.000000  3272.000000  3272.000000  3272.000000   \n",
       "mean     49.161187    49.650301    48.653316    49.160898    49.160898   \n",
       "std      35.810449    36.216443    35.387644    35.804094    35.804094   \n",
       "min      10.968719    11.068068    10.851602    10.912663    10.912663   \n",
       "25%      20.281718    20.426113    20.172359    20.295858    20.295858   \n",
       "50%      38.527750    38.931249    38.224501    38.563002    38.563002   \n",
       "75%      61.837625    62.265000    61.218125    61.738001    61.738001   \n",
       "max     151.250000   151.546494   148.899002   149.838501   149.838501   \n",
       "\n",
       "             Volume  \n",
       "count  3.272000e+03  \n",
       "mean   6.017541e+07  \n",
       "std    4.957609e+07  \n",
       "min    9.312000e+06  \n",
       "25%    2.894200e+07  \n",
       "50%    4.123200e+07  \n",
       "75%    7.927251e+07  \n",
       "max    5.923990e+08  "
      ]
     },
     "execution_count": 8,
     "metadata": {},
     "output_type": "execute_result"
    }
   ],
   "source": [
    "data.describe()\n",
    "#we can do visualiation in google collab"
   ]
  },
  {
   "cell_type": "code",
   "execution_count": 9,
   "id": "3aa7d053",
   "metadata": {},
   "outputs": [
    {
     "data": {
      "text/plain": [
       "Index(['Date', 'Open', 'High', 'Low', 'Close', 'Adj Close', 'Volume'], dtype='object')"
      ]
     },
     "execution_count": 9,
     "metadata": {},
     "output_type": "execute_result"
    }
   ],
   "source": [
    "data.columns"
   ]
  },
  {
   "cell_type": "code",
   "execution_count": 10,
   "id": "1fb129b5",
   "metadata": {},
   "outputs": [
    {
     "data": {
      "text/plain": [
       "Date          object\n",
       "Open         float64\n",
       "High         float64\n",
       "Low          float64\n",
       "Close        float64\n",
       "Adj Close    float64\n",
       "Volume         int64\n",
       "dtype: object"
      ]
     },
     "execution_count": 10,
     "metadata": {},
     "output_type": "execute_result"
    }
   ],
   "source": [
    "data.dtypes"
   ]
  },
  {
   "cell_type": "code",
   "execution_count": 11,
   "id": "1b721e4f",
   "metadata": {},
   "outputs": [],
   "source": [
    "missing_values = data.isnull().sum()"
   ]
  },
  {
   "cell_type": "code",
   "execution_count": 12,
   "id": "3a1fcd2a",
   "metadata": {},
   "outputs": [],
   "source": [
    "duplicate = data.duplicated()"
   ]
  },
  {
   "cell_type": "code",
   "execution_count": 13,
   "id": "84aefc3f",
   "metadata": {},
   "outputs": [
    {
     "name": "stdout",
     "output_type": "stream",
     "text": [
      "Date         0\n",
      "Open         0\n",
      "High         0\n",
      "Low          0\n",
      "Close        0\n",
      "Adj Close    0\n",
      "Volume       0\n",
      "dtype: int64\n"
     ]
    }
   ],
   "source": [
    "print(missing_values)"
   ]
  },
  {
   "cell_type": "code",
   "execution_count": 14,
   "id": "9fe5b994",
   "metadata": {},
   "outputs": [
    {
     "name": "stdout",
     "output_type": "stream",
     "text": [
      "0       False\n",
      "1       False\n",
      "2       False\n",
      "3       False\n",
      "4       False\n",
      "        ...  \n",
      "3267    False\n",
      "3268    False\n",
      "3269    False\n",
      "3270    False\n",
      "3271    False\n",
      "Length: 3272, dtype: bool\n"
     ]
    }
   ],
   "source": [
    "print(duplicate)"
   ]
  },
  {
   "cell_type": "code",
   "execution_count": 15,
   "id": "62fb9cd2",
   "metadata": {},
   "outputs": [],
   "source": [
    "cleaning_dataset = data.dropna(axis=1)#remove columns with missing values\n",
    "cleaning_dataset = cleaning_dataset.dropna()#remove rows with missing values"
   ]
  },
  {
   "cell_type": "code",
   "execution_count": 16,
   "id": "01857949",
   "metadata": {},
   "outputs": [],
   "source": [
    "cleaning_dataset=cleaning_dataset.drop_duplicates()"
   ]
  },
  {
   "cell_type": "code",
   "execution_count": 17,
   "id": "1ce89333",
   "metadata": {},
   "outputs": [
    {
     "name": "stdout",
     "output_type": "stream",
     "text": [
      "(3272, 7)\n"
     ]
    }
   ],
   "source": [
    "print(cleaning_dataset.shape)"
   ]
  },
  {
   "cell_type": "code",
   "execution_count": 18,
   "id": "49412afb",
   "metadata": {},
   "outputs": [],
   "source": [
    "#this implies data is already cleaned"
   ]
  },
  {
   "cell_type": "code",
   "execution_count": 19,
   "id": "999f1cc9",
   "metadata": {},
   "outputs": [],
   "source": [
    "import matplotlib.pyplot as plt"
   ]
  },
  {
   "cell_type": "code",
   "execution_count": 20,
   "id": "649489c9",
   "metadata": {},
   "outputs": [
    {
     "data": {
      "text/html": [
       "<div>\n",
       "<style scoped>\n",
       "    .dataframe tbody tr th:only-of-type {\n",
       "        vertical-align: middle;\n",
       "    }\n",
       "\n",
       "    .dataframe tbody tr th {\n",
       "        vertical-align: top;\n",
       "    }\n",
       "\n",
       "    .dataframe thead th {\n",
       "        text-align: right;\n",
       "    }\n",
       "</style>\n",
       "<table border=\"1\" class=\"dataframe\">\n",
       "  <thead>\n",
       "    <tr style=\"text-align: right;\">\n",
       "      <th></th>\n",
       "      <th>Date</th>\n",
       "      <th>Open</th>\n",
       "      <th>High</th>\n",
       "      <th>Low</th>\n",
       "      <th>Close</th>\n",
       "      <th>Adj Close</th>\n",
       "      <th>Volume</th>\n",
       "    </tr>\n",
       "  </thead>\n",
       "  <tbody>\n",
       "    <tr>\n",
       "      <th>0</th>\n",
       "      <td>2010-01-04</td>\n",
       "      <td>15.689439</td>\n",
       "      <td>15.753504</td>\n",
       "      <td>15.621622</td>\n",
       "      <td>15.684434</td>\n",
       "      <td>15.684434</td>\n",
       "      <td>78169752</td>\n",
       "    </tr>\n",
       "    <tr>\n",
       "      <th>1</th>\n",
       "      <td>2010-01-05</td>\n",
       "      <td>15.695195</td>\n",
       "      <td>15.711712</td>\n",
       "      <td>15.554054</td>\n",
       "      <td>15.615365</td>\n",
       "      <td>15.615365</td>\n",
       "      <td>120067812</td>\n",
       "    </tr>\n",
       "    <tr>\n",
       "      <th>2</th>\n",
       "      <td>2010-01-06</td>\n",
       "      <td>15.662162</td>\n",
       "      <td>15.662162</td>\n",
       "      <td>15.174174</td>\n",
       "      <td>15.221722</td>\n",
       "      <td>15.221722</td>\n",
       "      <td>158988852</td>\n",
       "    </tr>\n",
       "    <tr>\n",
       "      <th>3</th>\n",
       "      <td>2010-01-07</td>\n",
       "      <td>15.250250</td>\n",
       "      <td>15.265265</td>\n",
       "      <td>14.831081</td>\n",
       "      <td>14.867367</td>\n",
       "      <td>14.867367</td>\n",
       "      <td>256315428</td>\n",
       "    </tr>\n",
       "    <tr>\n",
       "      <th>4</th>\n",
       "      <td>2010-01-08</td>\n",
       "      <td>14.814815</td>\n",
       "      <td>15.096346</td>\n",
       "      <td>14.742492</td>\n",
       "      <td>15.065566</td>\n",
       "      <td>15.065566</td>\n",
       "      <td>188783028</td>\n",
       "    </tr>\n",
       "  </tbody>\n",
       "</table>\n",
       "</div>"
      ],
      "text/plain": [
       "         Date       Open       High        Low      Close  Adj Close  \\\n",
       "0  2010-01-04  15.689439  15.753504  15.621622  15.684434  15.684434   \n",
       "1  2010-01-05  15.695195  15.711712  15.554054  15.615365  15.615365   \n",
       "2  2010-01-06  15.662162  15.662162  15.174174  15.221722  15.221722   \n",
       "3  2010-01-07  15.250250  15.265265  14.831081  14.867367  14.867367   \n",
       "4  2010-01-08  14.814815  15.096346  14.742492  15.065566  15.065566   \n",
       "\n",
       "      Volume  \n",
       "0   78169752  \n",
       "1  120067812  \n",
       "2  158988852  \n",
       "3  256315428  \n",
       "4  188783028  "
      ]
     },
     "execution_count": 20,
     "metadata": {},
     "output_type": "execute_result"
    }
   ],
   "source": [
    "data.head()"
   ]
  },
  {
   "cell_type": "code",
   "execution_count": 21,
   "id": "04d1edf0",
   "metadata": {},
   "outputs": [],
   "source": [
    "data['Date'] = pd.to_datetime(data['Date'])\n",
    "#converting all dates into datetime format"
   ]
  },
  {
   "cell_type": "code",
   "execution_count": 22,
   "id": "7c424279",
   "metadata": {},
   "outputs": [],
   "source": [
    "#convert date column to year\n",
    "data[\"Year\"] = data[\"Date\"].dt.year"
   ]
  },
  {
   "cell_type": "code",
   "execution_count": 23,
   "id": "3e580b1e",
   "metadata": {},
   "outputs": [],
   "source": [
    "#we have converted all the dates into years"
   ]
  },
  {
   "cell_type": "code",
   "execution_count": 24,
   "id": "ae61d96b",
   "metadata": {},
   "outputs": [],
   "source": [
    "#calculate average highest and lowest price per year from 2010 to 2022\n",
    "averagehighest = data.groupby('Year')['High'].mean()\n",
    "averagelowest = data.groupby('Year')['Low'].mean()"
   ]
  },
  {
   "cell_type": "code",
   "execution_count": 25,
   "id": "4b5badcb",
   "metadata": {},
   "outputs": [
    {
     "name": "stdout",
     "output_type": "stream",
     "text": [
      "13.53724161111111 13.28298142063492\n",
      "14.37351540079365 14.104312626984127\n",
      "16.223136176 15.939817852000001\n",
      "22.275741 21.96477621825397\n",
      "28.642101734126985 28.167980603174602\n",
      "31.28467858730159 30.69791066666667\n",
      "38.47044042063492 37.84813482936508\n",
      "47.260866617529885 46.66088046613546\n",
      "56.74817344223108 55.46726888446215\n",
      "59.985837345238096 59.062902880952386\n",
      "74.83170739130435 72.98030428063241\n",
      "125.25533550793651 123.03388114285714\n"
     ]
    }
   ],
   "source": [
    "for year in range(2010,2022):\n",
    "    avg_high = averagehighest.get(year,0)\n",
    "    avg_low = averagelowest.get(year,0)\n",
    "    print(avg_high,avg_low)"
   ]
  },
  {
   "cell_type": "code",
   "execution_count": 26,
   "id": "ab9282ef",
   "metadata": {},
   "outputs": [
    {
     "data": {
      "image/png": "[encoded data removed]",
      "text/plain": [
       "<Figure size 1000x600 with 1 Axes>"
      ]
     },
     "metadata": {},
     "output_type": "display_data"
    }
   ],
   "source": [
    "plt.figure(figsize=(10,6))\n",
    "plt.plot(averagehighest.index,averagehighest,label = \"Average High\")\n",
    "plt.plot(averagelowest.index,averagelowest,label = \"Average Low\")\n",
    "plt.xlabel(\"Year\")\n",
    "plt.ylabel(\"Average Price\")\n",
    "plt.title(\"Average highest & lowest stock price from 2010-2022\")\n",
    "plt.legend\n",
    "plt.grid(True)\n",
    "plt.show()"
   ]
  },
  {
   "cell_type": "code",
   "execution_count": 27,
   "id": "ddb184f4",
   "metadata": {},
   "outputs": [],
   "source": [
    "#l15"
   ]
  },
  {
   "cell_type": "code",
   "execution_count": 28,
   "id": "88a727df",
   "metadata": {},
   "outputs": [],
   "source": [
    "annual_volume = data.groupby('Year')[\"Volume\"].mean()"
   ]
  },
  {
   "cell_type": "code",
   "execution_count": 29,
   "id": "f0367341",
   "metadata": {},
   "outputs": [
    {
     "name": "stdout",
     "output_type": "stream",
     "text": [
      "127069010.14285715\n",
      "123005664.85714285\n",
      "104070817.008\n",
      "83412535.71428572\n",
      "53328169.61904762\n",
      "43396365.07936508\n",
      "39381277.777777776\n",
      "32342717.131474104\n",
      "40919314.74103586\n",
      "30260753.968253966\n",
      "39953114.62450593\n",
      "30513936.507936507\n"
     ]
    }
   ],
   "source": [
    "for year in range(2010,2022):\n",
    "    vol = annual_volume.get(year,0)\n",
    "    print(vol)    "
   ]
  },
  {
   "cell_type": "code",
   "execution_count": 36,
   "id": "9d7dbd6c",
   "metadata": {
    "scrolled": true
   },
   "outputs": [
    {
     "name": "stderr",
     "output_type": "stream",
     "text": [
      "No artists with labels found to put in legend.  Note that artists whose label start with an underscore are ignored when legend() is called with no argument.\n"
     ]
    },
    {
     "data": {
      "image/png": "[encoded data removed]",
      "text/plain": [
       "<Figure size 1000x600 with 1 Axes>"
      ]
     },
     "metadata": {},
     "output_type": "display_data"
    }
   ],
   "source": [
    "plt.figure(figsize=(10,6))\n",
    "plt.plot(annual_volume.index,annual_volume,marker = 'o')\n",
    "plt.xlabel(\"Year\")\n",
    "plt.ylabel(\"Average Volume\")\n",
    "plt.title(\"Average volume trends over time (Annually) \")\n",
    "plt.legend()\n",
    "plt.grid(True)\n",
    "plt.show()"
   ]
  },
  {
   "cell_type": "code",
   "execution_count": 31,
   "id": "8f8de47c",
   "metadata": {},
   "outputs": [],
   "source": [
    "# L16 finding correlation between volume and price change\n",
    "#difference of close and open price\n",
    "data['Price Change'] = data['Close'] - data['Open']"
   ]
  },
  {
   "cell_type": "code",
   "execution_count": 32,
   "id": "72081acc",
   "metadata": {},
   "outputs": [],
   "source": [
    "annual_volume = data.groupby('Year')[\"Volume\"].mean()\n",
    "price_change = data.groupby('Year')[\"Price Change\"].mean()"
   ]
  },
  {
   "cell_type": "code",
   "execution_count": 35,
   "id": "7c5088d8",
   "metadata": {},
   "outputs": [
    {
     "name": "stdout",
     "output_type": "stream",
     "text": [
      "Year2010:Volume=127069010.14,Price Change = -0.02\n",
      "Year2011:Volume=123005664.86,Price Change = -0.00\n",
      "Year2012:Volume=104070817.01,Price Change = 0.00\n",
      "Year2013:Volume=83412535.71,Price Change = 0.02\n",
      "Year2014:Volume=53328169.62,Price Change = -0.04\n",
      "Year2015:Volume=43396365.08,Price Change = -0.00\n",
      "Year2016:Volume=39381277.78,Price Change = -0.02\n",
      "Year2017:Volume=32342717.13,Price Change = 0.02\n",
      "Year2018:Volume=40919314.74,Price Change = -0.03\n",
      "Year2019:Volume=30260753.97,Price Change = 0.05\n",
      "Year2020:Volume=39953114.62,Price Change = 0.07\n",
      "Year2021:Volume=30513936.51,Price Change = 0.08\n"
     ]
    }
   ],
   "source": [
    "for year in range(2010,2022):\n",
    "    vol = annual_volume.get(year,0)\n",
    "    pricechange = price_change.loc[year]\n",
    "    print(f\"Year{year}:Volume={vol:.2f},Price Change = {pricechange:.2f}\")    "
   ]
  },
  {
   "cell_type": "code",
   "execution_count": 37,
   "id": "11d04b3e",
   "metadata": {},
   "outputs": [
    {
     "data": {
      "image/png": "[encoded data removed]",
      "text/plain": [
       "<Figure size 1000x600 with 1 Axes>"
      ]
     },
     "metadata": {},
     "output_type": "display_data"
    }
   ],
   "source": [
    "plt.figure(figsize=(10,6))\n",
    "plt.scatter(annual_volume,price_change,alpha=0.5)#alpha used for thickness\n",
    "plt.xlabel(\"Volume\")\n",
    "plt.ylabel(\"Price Change\")\n",
    "plt.title(\"Correlation between volume and Price change\")\n",
    "plt.grid(True)\n",
    "plt.show()"
   ]
  },
  {
   "cell_type": "code",
   "execution_count": null,
   "id": "9e345070",
   "metadata": {},
   "outputs": [],
   "source": [
    "#Price change is positive means closing price is higher than open price "
   ]
  },
  {
   "cell_type": "code",
   "execution_count": null,
   "id": "2f9c949f",
   "metadata": {},
   "outputs": [],
   "source": [
    "#l-17 How to calculate moving average"
   ]
  },
  {
   "cell_type": "code",
   "execution_count": null,
   "id": "71e0d4de",
   "metadata": {},
   "outputs": [],
   "source": []
  }
 ],
 "metadata": {
  "kernelspec": {
   "display_name": "Python 3 (ipykernel)",
   "language": "python",
   "name": "python3"
  },
  "language_info": {
   "codemirror_mode": {
    "name": "ipython",
    "version": 3
   },
   "file_extension": ".py",
   "mimetype": "text/x-python",
   "name": "python",
   "nbconvert_exporter": "python",
   "pygments_lexer": "ipython3",
   "version": "3.11.5"
  }
 },
 "nbformat": 4,
 "nbformat_minor": 5
}
